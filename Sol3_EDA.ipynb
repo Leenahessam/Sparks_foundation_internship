{
  "nbformat": 4,
  "nbformat_minor": 0,
  "metadata": {
    "colab": {
      "name": "Sol3. EDA.ipynb",
      "provenance": [],
      "collapsed_sections": []
    },
    "kernelspec": {
      "name": "python3",
      "display_name": "Python 3"
    },
    "language_info": {
      "name": "python"
    }
  },
  "cells": [
    {
      "cell_type": "code",
      "source": [
        "!pip install pyspark"
      ],
      "metadata": {
        "colab": {
          "base_uri": "https://localhost:8080/"
        },
        "id": "SxOJ4xyBb36N",
        "outputId": "ffb0eba7-1853-460e-b220-920dc98614d8"
      },
      "execution_count": null,
      "outputs": [
        {
          "output_type": "stream",
          "name": "stdout",
          "text": [
            "Looking in indexes: https://pypi.org/simple, https://us-python.pkg.dev/colab-wheels/public/simple/\n",
            "Collecting pyspark\n",
            "  Downloading pyspark-3.3.0.tar.gz (281.3 MB)\n",
            "\u001b[K     |████████████████████████████████| 281.3 MB 39 kB/s \n",
            "\u001b[?25hCollecting py4j==0.10.9.5\n",
            "  Downloading py4j-0.10.9.5-py2.py3-none-any.whl (199 kB)\n",
            "\u001b[K     |████████████████████████████████| 199 kB 44.9 MB/s \n",
            "\u001b[?25hBuilding wheels for collected packages: pyspark\n",
            "  Building wheel for pyspark (setup.py) ... \u001b[?25l\u001b[?25hdone\n",
            "  Created wheel for pyspark: filename=pyspark-3.3.0-py2.py3-none-any.whl size=281764026 sha256=8455832145778981e566f173ce4a27331bbcbd286748b9ffdb752f372c769f3a\n",
            "  Stored in directory: /root/.cache/pip/wheels/7a/8e/1b/f73a52650d2e5f337708d9f6a1750d451a7349a867f928b885\n",
            "Successfully built pyspark\n",
            "Installing collected packages: py4j, pyspark\n",
            "Successfully installed py4j-0.10.9.5 pyspark-3.3.0\n"
          ]
        }
      ]
    },
    {
      "cell_type": "code",
      "execution_count": null,
      "metadata": {
        "id": "gfe2n975yf3r"
      },
      "outputs": [],
      "source": [
        "from pyspark.sql import SparkSession\n",
        "import pandas as pd\n",
        "import numpy as np  \n",
        "import matplotlib.pyplot as plt  \n",
        "import seaborn as sns\n",
        "%matplotlib inline"
      ]
    },
    {
      "cell_type": "code",
      "source": [
        "spark = SparkSession.builder.getOrCreate()"
      ],
      "metadata": {
        "id": "jBqQzB3_D9vk"
      },
      "execution_count": null,
      "outputs": []
    },
    {
      "cell_type": "code",
      "source": [
        "s_data = spark.read.option(\"header\", True).csv('SampleSuperstore.csv')\n",
        "s_data.show()"
      ],
      "metadata": {
        "colab": {
          "base_uri": "https://localhost:8080/"
        },
        "id": "tDl1DBdIy-EL",
        "outputId": "6bb10b9e-6ea4-4e3e-8ff1-4a722bed932b"
      },
      "execution_count": null,
      "outputs": [
        {
          "output_type": "stream",
          "name": "stdout",
          "text": [
            "+--------------+-----------+-------------+---------------+--------------+-----------+-------+---------------+------------+--------+--------+--------+--------+\n",
            "|     Ship Mode|    Segment|      Country|           City|         State|Postal Code| Region|       Category|Sub-Category|   Sales|Quantity|Discount|  Profit|\n",
            "+--------------+-----------+-------------+---------------+--------------+-----------+-------+---------------+------------+--------+--------+--------+--------+\n",
            "|  Second Class|   Consumer|United States|      Henderson|      Kentucky|      42420|  South|      Furniture|   Bookcases|  261.96|       2|       0| 41.9136|\n",
            "|  Second Class|   Consumer|United States|      Henderson|      Kentucky|      42420|  South|      Furniture|      Chairs|  731.94|       3|       0| 219.582|\n",
            "|  Second Class|  Corporate|United States|    Los Angeles|    California|      90036|   West|Office Supplies|      Labels|   14.62|       2|       0|  6.8714|\n",
            "|Standard Class|   Consumer|United States|Fort Lauderdale|       Florida|      33311|  South|      Furniture|      Tables|957.5775|       5|    0.45|-383.031|\n",
            "|Standard Class|   Consumer|United States|Fort Lauderdale|       Florida|      33311|  South|Office Supplies|     Storage|  22.368|       2|     0.2|  2.5164|\n",
            "|Standard Class|   Consumer|United States|    Los Angeles|    California|      90032|   West|      Furniture| Furnishings|   48.86|       7|       0| 14.1694|\n",
            "|Standard Class|   Consumer|United States|    Los Angeles|    California|      90032|   West|Office Supplies|         Art|    7.28|       4|       0|  1.9656|\n",
            "|Standard Class|   Consumer|United States|    Los Angeles|    California|      90032|   West|     Technology|      Phones| 907.152|       6|     0.2| 90.7152|\n",
            "|Standard Class|   Consumer|United States|    Los Angeles|    California|      90032|   West|Office Supplies|     Binders|  18.504|       3|     0.2|  5.7825|\n",
            "|Standard Class|   Consumer|United States|    Los Angeles|    California|      90032|   West|Office Supplies|  Appliances|   114.9|       5|       0|   34.47|\n",
            "|Standard Class|   Consumer|United States|    Los Angeles|    California|      90032|   West|      Furniture|      Tables|1706.184|       9|     0.2| 85.3092|\n",
            "|Standard Class|   Consumer|United States|    Los Angeles|    California|      90032|   West|     Technology|      Phones| 911.424|       4|     0.2| 68.3568|\n",
            "|Standard Class|   Consumer|United States|        Concord|North Carolina|      28027|  South|Office Supplies|       Paper|  15.552|       3|     0.2|  5.4432|\n",
            "|Standard Class|   Consumer|United States|        Seattle|    Washington|      98103|   West|Office Supplies|     Binders| 407.976|       3|     0.2|132.5922|\n",
            "|Standard Class|Home Office|United States|     Fort Worth|         Texas|      76106|Central|Office Supplies|  Appliances|   68.81|       5|     0.8|-123.858|\n",
            "|Standard Class|Home Office|United States|     Fort Worth|         Texas|      76106|Central|Office Supplies|     Binders|   2.544|       3|     0.8|  -3.816|\n",
            "|Standard Class|   Consumer|United States|        Madison|     Wisconsin|      53711|Central|Office Supplies|     Storage|  665.88|       6|       0| 13.3176|\n",
            "|  Second Class|   Consumer|United States|    West Jordan|          Utah|      84084|   West|Office Supplies|     Storage|    55.5|       2|       0|    9.99|\n",
            "|  Second Class|   Consumer|United States|  San Francisco|    California|      94109|   West|Office Supplies|         Art|    8.56|       2|       0|  2.4824|\n",
            "|  Second Class|   Consumer|United States|  San Francisco|    California|      94109|   West|     Technology|      Phones|  213.48|       3|     0.2|  16.011|\n",
            "+--------------+-----------+-------------+---------------+--------------+-----------+-------+---------------+------------+--------+--------+--------+--------+\n",
            "only showing top 20 rows\n",
            "\n"
          ]
        }
      ]
    },
    {
      "cell_type": "markdown",
      "source": [
        "EDA"
      ],
      "metadata": {
        "id": "-1gGvcTcDrSK"
      }
    },
    {
      "cell_type": "code",
      "source": [
        "#view data information\n",
        "s_data.describe().show()\n",
        "#data has no nulls or na and datatypes seem fine"
      ],
      "metadata": {
        "colab": {
          "base_uri": "https://localhost:8080/"
        },
        "id": "KqMawO9QDtrP",
        "outputId": "bce46b95-d1d6-4fdd-946c-d8c64c019940"
      },
      "execution_count": null,
      "outputs": [
        {
          "output_type": "stream",
          "name": "stdout",
          "text": [
            "+-------+--------------+-----------+-------------+--------+-------+------------------+-------+----------+------------+-----------------+-----------------+-------------------+------------------+\n",
            "|summary|     Ship Mode|    Segment|      Country|    City|  State|       Postal Code| Region|  Category|Sub-Category|            Sales|         Quantity|           Discount|            Profit|\n",
            "+-------+--------------+-----------+-------------+--------+-------+------------------+-------+----------+------------+-----------------+-----------------+-------------------+------------------+\n",
            "|  count|          9994|       9994|         9994|    9994|   9994|              9994|   9994|      9994|        9994|             9994|             9994|               9994|              9994|\n",
            "|   mean|          null|       null|         null|    null|   null|  55190.3794276566|   null|      null|        null|229.8580008304938|3.789573744246548|0.15620272163298934|28.656896307784802|\n",
            "| stddev|          null|       null|         null|    null|   null|32063.693350364487|   null|      null|        null|623.2451005086809|2.225109691141402|0.20645196782571626| 234.2601076909573|\n",
            "|    min|   First Class|   Consumer|United States|Aberdeen|Alabama|             10009|Central| Furniture| Accessories|            0.444|                1|                  0|           -0.0895|\n",
            "|    max|Standard Class|Home Office|United States|    Yuma|Wyoming|             99301|   West|Technology|      Tables|           999.98|                9|                0.8|           99.9408|\n",
            "+-------+--------------+-----------+-------------+--------+-------+------------------+-------+----------+------------+-----------------+-----------------+-------------------+------------------+\n",
            "\n"
          ]
        }
      ]
    },
    {
      "cell_type": "code",
      "source": [
        "#s_data.corr()"
      ],
      "metadata": {
        "colab": {
          "base_uri": "https://localhost:8080/",
          "height": 206
        },
        "id": "K1ZyZzhCEwG7",
        "outputId": "308321f7-369e-4c19-dac0-6910f2b904f3"
      },
      "execution_count": null,
      "outputs": [
        {
          "output_type": "execute_result",
          "data": {
            "text/plain": [
              "             Postal Code     Sales  Quantity  Discount    Profit\n",
              "Postal Code     1.000000 -0.023854  0.012761  0.058443 -0.029961\n",
              "Sales          -0.023854  1.000000  0.200795 -0.028190  0.479064\n",
              "Quantity        0.012761  0.200795  1.000000  0.008623  0.066253\n",
              "Discount        0.058443 -0.028190  0.008623  1.000000 -0.219487\n",
              "Profit         -0.029961  0.479064  0.066253 -0.219487  1.000000"
            ],
            "text/html": [
              "\n",
              "  <div id=\"df-caf6d2f8-a5b8-4b9d-bcec-6a21de5898d5\">\n",
              "    <div class=\"colab-df-container\">\n",
              "      <div>\n",
              "<style scoped>\n",
              "    .dataframe tbody tr th:only-of-type {\n",
              "        vertical-align: middle;\n",
              "    }\n",
              "\n",
              "    .dataframe tbody tr th {\n",
              "        vertical-align: top;\n",
              "    }\n",
              "\n",
              "    .dataframe thead th {\n",
              "        text-align: right;\n",
              "    }\n",
              "</style>\n",
              "<table border=\"1\" class=\"dataframe\">\n",
              "  <thead>\n",
              "    <tr style=\"text-align: right;\">\n",
              "      <th></th>\n",
              "      <th>Postal Code</th>\n",
              "      <th>Sales</th>\n",
              "      <th>Quantity</th>\n",
              "      <th>Discount</th>\n",
              "      <th>Profit</th>\n",
              "    </tr>\n",
              "  </thead>\n",
              "  <tbody>\n",
              "    <tr>\n",
              "      <th>Postal Code</th>\n",
              "      <td>1.000000</td>\n",
              "      <td>-0.023854</td>\n",
              "      <td>0.012761</td>\n",
              "      <td>0.058443</td>\n",
              "      <td>-0.029961</td>\n",
              "    </tr>\n",
              "    <tr>\n",
              "      <th>Sales</th>\n",
              "      <td>-0.023854</td>\n",
              "      <td>1.000000</td>\n",
              "      <td>0.200795</td>\n",
              "      <td>-0.028190</td>\n",
              "      <td>0.479064</td>\n",
              "    </tr>\n",
              "    <tr>\n",
              "      <th>Quantity</th>\n",
              "      <td>0.012761</td>\n",
              "      <td>0.200795</td>\n",
              "      <td>1.000000</td>\n",
              "      <td>0.008623</td>\n",
              "      <td>0.066253</td>\n",
              "    </tr>\n",
              "    <tr>\n",
              "      <th>Discount</th>\n",
              "      <td>0.058443</td>\n",
              "      <td>-0.028190</td>\n",
              "      <td>0.008623</td>\n",
              "      <td>1.000000</td>\n",
              "      <td>-0.219487</td>\n",
              "    </tr>\n",
              "    <tr>\n",
              "      <th>Profit</th>\n",
              "      <td>-0.029961</td>\n",
              "      <td>0.479064</td>\n",
              "      <td>0.066253</td>\n",
              "      <td>-0.219487</td>\n",
              "      <td>1.000000</td>\n",
              "    </tr>\n",
              "  </tbody>\n",
              "</table>\n",
              "</div>\n",
              "      <button class=\"colab-df-convert\" onclick=\"convertToInteractive('df-caf6d2f8-a5b8-4b9d-bcec-6a21de5898d5')\"\n",
              "              title=\"Convert this dataframe to an interactive table.\"\n",
              "              style=\"display:none;\">\n",
              "        \n",
              "  <svg xmlns=\"http://www.w3.org/2000/svg\" height=\"24px\"viewBox=\"0 0 24 24\"\n",
              "       width=\"24px\">\n",
              "    <path d=\"M0 0h24v24H0V0z\" fill=\"none\"/>\n",
              "    <path d=\"M18.56 5.44l.94 2.06.94-2.06 2.06-.94-2.06-.94-.94-2.06-.94 2.06-2.06.94zm-11 1L8.5 8.5l.94-2.06 2.06-.94-2.06-.94L8.5 2.5l-.94 2.06-2.06.94zm10 10l.94 2.06.94-2.06 2.06-.94-2.06-.94-.94-2.06-.94 2.06-2.06.94z\"/><path d=\"M17.41 7.96l-1.37-1.37c-.4-.4-.92-.59-1.43-.59-.52 0-1.04.2-1.43.59L10.3 9.45l-7.72 7.72c-.78.78-.78 2.05 0 2.83L4 21.41c.39.39.9.59 1.41.59.51 0 1.02-.2 1.41-.59l7.78-7.78 2.81-2.81c.8-.78.8-2.07 0-2.86zM5.41 20L4 18.59l7.72-7.72 1.47 1.35L5.41 20z\"/>\n",
              "  </svg>\n",
              "      </button>\n",
              "      \n",
              "  <style>\n",
              "    .colab-df-container {\n",
              "      display:flex;\n",
              "      flex-wrap:wrap;\n",
              "      gap: 12px;\n",
              "    }\n",
              "\n",
              "    .colab-df-convert {\n",
              "      background-color: #E8F0FE;\n",
              "      border: none;\n",
              "      border-radius: 50%;\n",
              "      cursor: pointer;\n",
              "      display: none;\n",
              "      fill: #1967D2;\n",
              "      height: 32px;\n",
              "      padding: 0 0 0 0;\n",
              "      width: 32px;\n",
              "    }\n",
              "\n",
              "    .colab-df-convert:hover {\n",
              "      background-color: #E2EBFA;\n",
              "      box-shadow: 0px 1px 2px rgba(60, 64, 67, 0.3), 0px 1px 3px 1px rgba(60, 64, 67, 0.15);\n",
              "      fill: #174EA6;\n",
              "    }\n",
              "\n",
              "    [theme=dark] .colab-df-convert {\n",
              "      background-color: #3B4455;\n",
              "      fill: #D2E3FC;\n",
              "    }\n",
              "\n",
              "    [theme=dark] .colab-df-convert:hover {\n",
              "      background-color: #434B5C;\n",
              "      box-shadow: 0px 1px 3px 1px rgba(0, 0, 0, 0.15);\n",
              "      filter: drop-shadow(0px 1px 2px rgba(0, 0, 0, 0.3));\n",
              "      fill: #FFFFFF;\n",
              "    }\n",
              "  </style>\n",
              "\n",
              "      <script>\n",
              "        const buttonEl =\n",
              "          document.querySelector('#df-caf6d2f8-a5b8-4b9d-bcec-6a21de5898d5 button.colab-df-convert');\n",
              "        buttonEl.style.display =\n",
              "          google.colab.kernel.accessAllowed ? 'block' : 'none';\n",
              "\n",
              "        async function convertToInteractive(key) {\n",
              "          const element = document.querySelector('#df-caf6d2f8-a5b8-4b9d-bcec-6a21de5898d5');\n",
              "          const dataTable =\n",
              "            await google.colab.kernel.invokeFunction('convertToInteractive',\n",
              "                                                     [key], {});\n",
              "          if (!dataTable) return;\n",
              "\n",
              "          const docLinkHtml = 'Like what you see? Visit the ' +\n",
              "            '<a target=\"_blank\" href=https://colab.research.google.com/notebooks/data_table.ipynb>data table notebook</a>'\n",
              "            + ' to learn more about interactive tables.';\n",
              "          element.innerHTML = '';\n",
              "          dataTable['output_type'] = 'display_data';\n",
              "          await google.colab.output.renderOutput(dataTable, element);\n",
              "          const docLink = document.createElement('div');\n",
              "          docLink.innerHTML = docLinkHtml;\n",
              "          element.appendChild(docLink);\n",
              "        }\n",
              "      </script>\n",
              "    </div>\n",
              "  </div>\n",
              "  "
            ]
          },
          "metadata": {},
          "execution_count": 5
        }
      ]
    },
    {
      "cell_type": "code",
      "source": [
        "s_data.select('Country').distinct().collect()"
      ],
      "metadata": {
        "colab": {
          "base_uri": "https://localhost:8080/"
        },
        "id": "nWrMgCiFIKvg",
        "outputId": "d8c015eb-74d9-454e-ac54-f991d85a8be6"
      },
      "execution_count": null,
      "outputs": [
        {
          "output_type": "execute_result",
          "data": {
            "text/plain": [
              "[Row(Country='United States')]"
            ]
          },
          "metadata": {},
          "execution_count": 7
        }
      ]
    },
    {
      "cell_type": "code",
      "source": [
        "s_data.select('Segment').distinct().collect()"
      ],
      "metadata": {
        "colab": {
          "base_uri": "https://localhost:8080/"
        },
        "id": "plsA2Fv7OHwb",
        "outputId": "757c94b8-3721-4018-894a-0fdac0fe691d"
      },
      "execution_count": null,
      "outputs": [
        {
          "output_type": "execute_result",
          "data": {
            "text/plain": [
              "[Row(Segment='Consumer'), Row(Segment='Home Office'), Row(Segment='Corporate')]"
            ]
          },
          "metadata": {},
          "execution_count": 8
        }
      ]
    },
    {
      "cell_type": "code",
      "source": [
        "#as there is no change in this col and it doesn't add any further info, so we drop it\n",
        "s_data = s_data.drop('Country')"
      ],
      "metadata": {
        "id": "-6oX7wpqJDG2"
      },
      "execution_count": null,
      "outputs": []
    },
    {
      "cell_type": "code",
      "source": [
        "s_data.show()"
      ],
      "metadata": {
        "colab": {
          "base_uri": "https://localhost:8080/"
        },
        "id": "ao8Sj9LpJPZk",
        "outputId": "c9daf512-ea08-4ee8-e95f-37284ef9dec1"
      },
      "execution_count": null,
      "outputs": [
        {
          "output_type": "stream",
          "name": "stdout",
          "text": [
            "+--------------+-----------+---------------+--------------+-----------+-------+---------------+------------+--------+--------+--------+--------+\n",
            "|     Ship Mode|    Segment|           City|         State|Postal Code| Region|       Category|Sub-Category|   Sales|Quantity|Discount|  Profit|\n",
            "+--------------+-----------+---------------+--------------+-----------+-------+---------------+------------+--------+--------+--------+--------+\n",
            "|  Second Class|   Consumer|      Henderson|      Kentucky|      42420|  South|      Furniture|   Bookcases|  261.96|       2|       0| 41.9136|\n",
            "|  Second Class|   Consumer|      Henderson|      Kentucky|      42420|  South|      Furniture|      Chairs|  731.94|       3|       0| 219.582|\n",
            "|  Second Class|  Corporate|    Los Angeles|    California|      90036|   West|Office Supplies|      Labels|   14.62|       2|       0|  6.8714|\n",
            "|Standard Class|   Consumer|Fort Lauderdale|       Florida|      33311|  South|      Furniture|      Tables|957.5775|       5|    0.45|-383.031|\n",
            "|Standard Class|   Consumer|Fort Lauderdale|       Florida|      33311|  South|Office Supplies|     Storage|  22.368|       2|     0.2|  2.5164|\n",
            "|Standard Class|   Consumer|    Los Angeles|    California|      90032|   West|      Furniture| Furnishings|   48.86|       7|       0| 14.1694|\n",
            "|Standard Class|   Consumer|    Los Angeles|    California|      90032|   West|Office Supplies|         Art|    7.28|       4|       0|  1.9656|\n",
            "|Standard Class|   Consumer|    Los Angeles|    California|      90032|   West|     Technology|      Phones| 907.152|       6|     0.2| 90.7152|\n",
            "|Standard Class|   Consumer|    Los Angeles|    California|      90032|   West|Office Supplies|     Binders|  18.504|       3|     0.2|  5.7825|\n",
            "|Standard Class|   Consumer|    Los Angeles|    California|      90032|   West|Office Supplies|  Appliances|   114.9|       5|       0|   34.47|\n",
            "|Standard Class|   Consumer|    Los Angeles|    California|      90032|   West|      Furniture|      Tables|1706.184|       9|     0.2| 85.3092|\n",
            "|Standard Class|   Consumer|    Los Angeles|    California|      90032|   West|     Technology|      Phones| 911.424|       4|     0.2| 68.3568|\n",
            "|Standard Class|   Consumer|        Concord|North Carolina|      28027|  South|Office Supplies|       Paper|  15.552|       3|     0.2|  5.4432|\n",
            "|Standard Class|   Consumer|        Seattle|    Washington|      98103|   West|Office Supplies|     Binders| 407.976|       3|     0.2|132.5922|\n",
            "|Standard Class|Home Office|     Fort Worth|         Texas|      76106|Central|Office Supplies|  Appliances|   68.81|       5|     0.8|-123.858|\n",
            "|Standard Class|Home Office|     Fort Worth|         Texas|      76106|Central|Office Supplies|     Binders|   2.544|       3|     0.8|  -3.816|\n",
            "|Standard Class|   Consumer|        Madison|     Wisconsin|      53711|Central|Office Supplies|     Storage|  665.88|       6|       0| 13.3176|\n",
            "|  Second Class|   Consumer|    West Jordan|          Utah|      84084|   West|Office Supplies|     Storage|    55.5|       2|       0|    9.99|\n",
            "|  Second Class|   Consumer|  San Francisco|    California|      94109|   West|Office Supplies|         Art|    8.56|       2|       0|  2.4824|\n",
            "|  Second Class|   Consumer|  San Francisco|    California|      94109|   West|     Technology|      Phones|  213.48|       3|     0.2|  16.011|\n",
            "+--------------+-----------+---------------+--------------+-----------+-------+---------------+------------+--------+--------+--------+--------+\n",
            "only showing top 20 rows\n",
            "\n"
          ]
        }
      ]
    },
    {
      "cell_type": "code",
      "source": [
        "s_data =s_data.withColumnRenamed('Sub-Category', 'SubCategory')"
      ],
      "metadata": {
        "id": "lU4B2uBrIsQM"
      },
      "execution_count": null,
      "outputs": []
    },
    {
      "cell_type": "code",
      "source": [
        "s_data.show()"
      ],
      "metadata": {
        "colab": {
          "base_uri": "https://localhost:8080/"
        },
        "id": "4WiHfSN1I_AO",
        "outputId": "4e7b55e9-096e-4397-cd11-b33cf105b7cc"
      },
      "execution_count": null,
      "outputs": [
        {
          "output_type": "stream",
          "name": "stdout",
          "text": [
            "+--------------+-----------+---------------+--------------+-----------+-------+---------------+-----------+--------+--------+--------+--------+\n",
            "|     Ship Mode|    Segment|           City|         State|Postal Code| Region|       Category|SubCategory|   Sales|Quantity|Discount|  Profit|\n",
            "+--------------+-----------+---------------+--------------+-----------+-------+---------------+-----------+--------+--------+--------+--------+\n",
            "|  Second Class|   Consumer|      Henderson|      Kentucky|      42420|  South|      Furniture|  Bookcases|  261.96|       2|       0| 41.9136|\n",
            "|  Second Class|   Consumer|      Henderson|      Kentucky|      42420|  South|      Furniture|     Chairs|  731.94|       3|       0| 219.582|\n",
            "|  Second Class|  Corporate|    Los Angeles|    California|      90036|   West|Office Supplies|     Labels|   14.62|       2|       0|  6.8714|\n",
            "|Standard Class|   Consumer|Fort Lauderdale|       Florida|      33311|  South|      Furniture|     Tables|957.5775|       5|    0.45|-383.031|\n",
            "|Standard Class|   Consumer|Fort Lauderdale|       Florida|      33311|  South|Office Supplies|    Storage|  22.368|       2|     0.2|  2.5164|\n",
            "|Standard Class|   Consumer|    Los Angeles|    California|      90032|   West|      Furniture|Furnishings|   48.86|       7|       0| 14.1694|\n",
            "|Standard Class|   Consumer|    Los Angeles|    California|      90032|   West|Office Supplies|        Art|    7.28|       4|       0|  1.9656|\n",
            "|Standard Class|   Consumer|    Los Angeles|    California|      90032|   West|     Technology|     Phones| 907.152|       6|     0.2| 90.7152|\n",
            "|Standard Class|   Consumer|    Los Angeles|    California|      90032|   West|Office Supplies|    Binders|  18.504|       3|     0.2|  5.7825|\n",
            "|Standard Class|   Consumer|    Los Angeles|    California|      90032|   West|Office Supplies| Appliances|   114.9|       5|       0|   34.47|\n",
            "|Standard Class|   Consumer|    Los Angeles|    California|      90032|   West|      Furniture|     Tables|1706.184|       9|     0.2| 85.3092|\n",
            "|Standard Class|   Consumer|    Los Angeles|    California|      90032|   West|     Technology|     Phones| 911.424|       4|     0.2| 68.3568|\n",
            "|Standard Class|   Consumer|        Concord|North Carolina|      28027|  South|Office Supplies|      Paper|  15.552|       3|     0.2|  5.4432|\n",
            "|Standard Class|   Consumer|        Seattle|    Washington|      98103|   West|Office Supplies|    Binders| 407.976|       3|     0.2|132.5922|\n",
            "|Standard Class|Home Office|     Fort Worth|         Texas|      76106|Central|Office Supplies| Appliances|   68.81|       5|     0.8|-123.858|\n",
            "|Standard Class|Home Office|     Fort Worth|         Texas|      76106|Central|Office Supplies|    Binders|   2.544|       3|     0.8|  -3.816|\n",
            "|Standard Class|   Consumer|        Madison|     Wisconsin|      53711|Central|Office Supplies|    Storage|  665.88|       6|       0| 13.3176|\n",
            "|  Second Class|   Consumer|    West Jordan|          Utah|      84084|   West|Office Supplies|    Storage|    55.5|       2|       0|    9.99|\n",
            "|  Second Class|   Consumer|  San Francisco|    California|      94109|   West|Office Supplies|        Art|    8.56|       2|       0|  2.4824|\n",
            "|  Second Class|   Consumer|  San Francisco|    California|      94109|   West|     Technology|     Phones|  213.48|       3|     0.2|  16.011|\n",
            "+--------------+-----------+---------------+--------------+-----------+-------+---------------+-----------+--------+--------+--------+--------+\n",
            "only showing top 20 rows\n",
            "\n"
          ]
        }
      ]
    },
    {
      "cell_type": "code",
      "source": [
        "s_data.createOrReplaceTempView(\"Superstore\")"
      ],
      "metadata": {
        "id": "doQa9TnJeKHj"
      },
      "execution_count": null,
      "outputs": []
    },
    {
      "cell_type": "markdown",
      "source": [
        "Finding areas of weak profit"
      ],
      "metadata": {
        "id": "9Z3GxqRYKjVP"
      }
    },
    {
      "cell_type": "code",
      "source": [
        "result = spark.sql(\"select City, State,\tRegion, Profit from Superstore where Profit < 0 \")\n",
        "result.show()"
      ],
      "metadata": {
        "colab": {
          "base_uri": "https://localhost:8080/"
        },
        "id": "OEQ8ITuYd_BW",
        "outputId": "0a7ea1c1-de9d-40ac-d08d-da070d1bf5da"
      },
      "execution_count": null,
      "outputs": [
        {
          "output_type": "stream",
          "name": "stdout",
          "text": [
            "+---------------+------------+-------+----------+\n",
            "|           City|       State| Region|    Profit|\n",
            "+---------------+------------+-------+----------+\n",
            "|Fort Lauderdale|     Florida|  South|  -383.031|\n",
            "|     Fort Worth|       Texas|Central|  -123.858|\n",
            "|     Fort Worth|       Texas|Central|    -3.816|\n",
            "|   Philadelphia|Pennsylvania|   East|   -1.0196|\n",
            "|   Philadelphia|Pennsylvania|   East|-1665.0522|\n",
            "|   Philadelphia|Pennsylvania|   East|   -7.0532|\n",
            "|   Philadelphia|Pennsylvania|   East|    -5.715|\n",
            "|     Richardson|       Texas|Central|  -147.963|\n",
            "|        Houston|       Texas|Central|  -46.9764|\n",
            "|        Houston|       Texas|Central|   -15.147|\n",
            "|        Chicago|    Illinois|Central|  -15.2225|\n",
            "|        Memphis|   Tennessee|  South| -114.3912|\n",
            "|        Memphis|   Tennessee|  South|   -18.196|\n",
            "|        Houston|       Texas|Central|   -1.9344|\n",
            "|        Houston|       Texas|Central|   -5.8248|\n",
            "|        Houston|       Texas|Central|   -14.475|\n",
            "|        Chicago|    Illinois|Central|  -48.9549|\n",
            "|       Portland|      Oregon|   West|    -3.788|\n",
            "|        Chicago|    Illinois|Central|  -10.7973|\n",
            "|        Chicago|    Illinois|Central|   -3.0396|\n",
            "+---------------+------------+-------+----------+\n",
            "only showing top 20 rows\n",
            "\n"
          ]
        }
      ]
    },
    {
      "cell_type": "markdown",
      "source": [
        "Which Category makes the highest sales?"
      ],
      "metadata": {
        "id": "_eftVRveV2BK"
      }
    },
    {
      "cell_type": "code",
      "source": [
        "result = spark.sql(\"select sum(Sales) as totalSales, Category from Superstore group by Category order by totalSales desc \")\n",
        "result.show()"
      ],
      "metadata": {
        "colab": {
          "base_uri": "https://localhost:8080/"
        },
        "id": "fyFp9ZBpexWe",
        "outputId": "375f198d-e05c-4b51-ec54-9f3f80199393"
      },
      "execution_count": null,
      "outputs": [
        {
          "output_type": "stream",
          "name": "stdout",
          "text": [
            "+-----------------+---------------+\n",
            "|       totalSales|       Category|\n",
            "+-----------------+---------------+\n",
            "|836154.0329999966|     Technology|\n",
            "|741999.7952999998|      Furniture|\n",
            "|719047.0320000029|Office Supplies|\n",
            "+-----------------+---------------+\n",
            "\n"
          ]
        }
      ]
    },
    {
      "cell_type": "markdown",
      "source": [
        "Visualization"
      ],
      "metadata": {
        "id": "rBxI6lMpfWfi"
      }
    },
    {
      "cell_type": "code",
      "source": [
        "Categ_Sales = result.toPandas()"
      ],
      "metadata": {
        "id": "nuKdYfahfKVJ"
      },
      "execution_count": null,
      "outputs": []
    },
    {
      "cell_type": "code",
      "source": [
        "Categ_Sales"
      ],
      "metadata": {
        "colab": {
          "base_uri": "https://localhost:8080/",
          "height": 143
        },
        "id": "hNhG3Vzmf8Cf",
        "outputId": "236a90d2-059c-4ea8-932d-4e48f3fcedec"
      },
      "execution_count": null,
      "outputs": [
        {
          "output_type": "execute_result",
          "data": {
            "text/plain": [
              "    totalSales         Category\n",
              "0  836154.0330       Technology\n",
              "1  741999.7953        Furniture\n",
              "2  719047.0320  Office Supplies"
            ],
            "text/html": [
              "\n",
              "  <div id=\"df-cc82c8ef-1bb6-40df-a57b-0ffb62cfa097\">\n",
              "    <div class=\"colab-df-container\">\n",
              "      <div>\n",
              "<style scoped>\n",
              "    .dataframe tbody tr th:only-of-type {\n",
              "        vertical-align: middle;\n",
              "    }\n",
              "\n",
              "    .dataframe tbody tr th {\n",
              "        vertical-align: top;\n",
              "    }\n",
              "\n",
              "    .dataframe thead th {\n",
              "        text-align: right;\n",
              "    }\n",
              "</style>\n",
              "<table border=\"1\" class=\"dataframe\">\n",
              "  <thead>\n",
              "    <tr style=\"text-align: right;\">\n",
              "      <th></th>\n",
              "      <th>totalSales</th>\n",
              "      <th>Category</th>\n",
              "    </tr>\n",
              "  </thead>\n",
              "  <tbody>\n",
              "    <tr>\n",
              "      <th>0</th>\n",
              "      <td>836154.0330</td>\n",
              "      <td>Technology</td>\n",
              "    </tr>\n",
              "    <tr>\n",
              "      <th>1</th>\n",
              "      <td>741999.7953</td>\n",
              "      <td>Furniture</td>\n",
              "    </tr>\n",
              "    <tr>\n",
              "      <th>2</th>\n",
              "      <td>719047.0320</td>\n",
              "      <td>Office Supplies</td>\n",
              "    </tr>\n",
              "  </tbody>\n",
              "</table>\n",
              "</div>\n",
              "      <button class=\"colab-df-convert\" onclick=\"convertToInteractive('df-cc82c8ef-1bb6-40df-a57b-0ffb62cfa097')\"\n",
              "              title=\"Convert this dataframe to an interactive table.\"\n",
              "              style=\"display:none;\">\n",
              "        \n",
              "  <svg xmlns=\"http://www.w3.org/2000/svg\" height=\"24px\"viewBox=\"0 0 24 24\"\n",
              "       width=\"24px\">\n",
              "    <path d=\"M0 0h24v24H0V0z\" fill=\"none\"/>\n",
              "    <path d=\"M18.56 5.44l.94 2.06.94-2.06 2.06-.94-2.06-.94-.94-2.06-.94 2.06-2.06.94zm-11 1L8.5 8.5l.94-2.06 2.06-.94-2.06-.94L8.5 2.5l-.94 2.06-2.06.94zm10 10l.94 2.06.94-2.06 2.06-.94-2.06-.94-.94-2.06-.94 2.06-2.06.94z\"/><path d=\"M17.41 7.96l-1.37-1.37c-.4-.4-.92-.59-1.43-.59-.52 0-1.04.2-1.43.59L10.3 9.45l-7.72 7.72c-.78.78-.78 2.05 0 2.83L4 21.41c.39.39.9.59 1.41.59.51 0 1.02-.2 1.41-.59l7.78-7.78 2.81-2.81c.8-.78.8-2.07 0-2.86zM5.41 20L4 18.59l7.72-7.72 1.47 1.35L5.41 20z\"/>\n",
              "  </svg>\n",
              "      </button>\n",
              "      \n",
              "  <style>\n",
              "    .colab-df-container {\n",
              "      display:flex;\n",
              "      flex-wrap:wrap;\n",
              "      gap: 12px;\n",
              "    }\n",
              "\n",
              "    .colab-df-convert {\n",
              "      background-color: #E8F0FE;\n",
              "      border: none;\n",
              "      border-radius: 50%;\n",
              "      cursor: pointer;\n",
              "      display: none;\n",
              "      fill: #1967D2;\n",
              "      height: 32px;\n",
              "      padding: 0 0 0 0;\n",
              "      width: 32px;\n",
              "    }\n",
              "\n",
              "    .colab-df-convert:hover {\n",
              "      background-color: #E2EBFA;\n",
              "      box-shadow: 0px 1px 2px rgba(60, 64, 67, 0.3), 0px 1px 3px 1px rgba(60, 64, 67, 0.15);\n",
              "      fill: #174EA6;\n",
              "    }\n",
              "\n",
              "    [theme=dark] .colab-df-convert {\n",
              "      background-color: #3B4455;\n",
              "      fill: #D2E3FC;\n",
              "    }\n",
              "\n",
              "    [theme=dark] .colab-df-convert:hover {\n",
              "      background-color: #434B5C;\n",
              "      box-shadow: 0px 1px 3px 1px rgba(0, 0, 0, 0.15);\n",
              "      filter: drop-shadow(0px 1px 2px rgba(0, 0, 0, 0.3));\n",
              "      fill: #FFFFFF;\n",
              "    }\n",
              "  </style>\n",
              "\n",
              "      <script>\n",
              "        const buttonEl =\n",
              "          document.querySelector('#df-cc82c8ef-1bb6-40df-a57b-0ffb62cfa097 button.colab-df-convert');\n",
              "        buttonEl.style.display =\n",
              "          google.colab.kernel.accessAllowed ? 'block' : 'none';\n",
              "\n",
              "        async function convertToInteractive(key) {\n",
              "          const element = document.querySelector('#df-cc82c8ef-1bb6-40df-a57b-0ffb62cfa097');\n",
              "          const dataTable =\n",
              "            await google.colab.kernel.invokeFunction('convertToInteractive',\n",
              "                                                     [key], {});\n",
              "          if (!dataTable) return;\n",
              "\n",
              "          const docLinkHtml = 'Like what you see? Visit the ' +\n",
              "            '<a target=\"_blank\" href=https://colab.research.google.com/notebooks/data_table.ipynb>data table notebook</a>'\n",
              "            + ' to learn more about interactive tables.';\n",
              "          element.innerHTML = '';\n",
              "          dataTable['output_type'] = 'display_data';\n",
              "          await google.colab.output.renderOutput(dataTable, element);\n",
              "          const docLink = document.createElement('div');\n",
              "          docLink.innerHTML = docLinkHtml;\n",
              "          element.appendChild(docLink);\n",
              "        }\n",
              "      </script>\n",
              "    </div>\n",
              "  </div>\n",
              "  "
            ]
          },
          "metadata": {},
          "execution_count": 45
        }
      ]
    },
    {
      "cell_type": "code",
      "source": [
        "sns.displot(Categ_Sales, x=\"Category\",y='totalSales',binwidth=10)\n"
      ],
      "metadata": {
        "colab": {
          "base_uri": "https://localhost:8080/",
          "height": 382
        },
        "id": "Qwd0YENofhxM",
        "outputId": "d1683787-c1a1-404c-9af4-d9317d4e3d58"
      },
      "execution_count": null,
      "outputs": [
        {
          "output_type": "execute_result",
          "data": {
            "text/plain": [
              "<seaborn.axisgrid.FacetGrid at 0x7faa74a9dd10>"
            ]
          },
          "metadata": {},
          "execution_count": 46
        },
        {
          "output_type": "display_data",
          "data": {
            "text/plain": [
              "<Figure size 360x360 with 1 Axes>"
            ],
            "image/png": "[encoded data removed]"
          },
          "metadata": {}
        }
      ]
    },
    {
      "cell_type": "markdown",
      "source": [
        "Pie Chart shows each Category portion from market"
      ],
      "metadata": {
        "id": "KTekzW0mFVPR"
      }
    },
    {
      "cell_type": "code",
      "source": [
        "palette_color = sns.color_palette('bright')\n",
        "plt.pie(Categ_Sales['totalSales'], labels=Categ_Sales['Category'], colors=palette_color, autopct='%.0f%%')"
      ],
      "metadata": {
        "colab": {
          "base_uri": "https://localhost:8080/",
          "height": 1000
        },
        "id": "kYDs7AeaFfxp",
        "outputId": "fa060578-fb14-4a35-8d8c-96b7c6d02030"
      },
      "execution_count": null,
      "outputs": [
        {
          "output_type": "execute_result",
          "data": {
            "text/plain": [
              "([<matplotlib.patches.Wedge at 0x7faa72aab150>,\n",
              "  <matplotlib.patches.Wedge at 0x7faa72aab910>,\n",
              "  <matplotlib.patches.Wedge at 0x7faa72ab71d0>],\n",
              " [Text(0.45585027961816843, 1.00109965666363, 'Technology'),\n",
              "  Text(-1.0859233062515894, -0.17541542959391293, 'Furniture'),\n",
              "  Text(0.609660527768593, -0.9155949109081596, 'Office Supplies')],\n",
              " [Text(0.2486456070644555, 0.5460543581801618, '36%'),\n",
              "  Text(-0.5923218034099578, -0.0956811434148616, '32%'),\n",
              "  Text(0.3325421060555962, -0.4994154059499052, '31%')])"
            ]
          },
          "metadata": {},
          "execution_count": 47
        },
        {
          "output_type": "display_data",
          "data": {
            "text/plain": [
              "<Figure size 1080x2160 with 1 Axes>"
            ],
            "image/png": "[encoded data removed]"
          },
          "metadata": {}
        }
      ]
    },
    {
      "cell_type": "code",
      "source": [
        ""
      ],
      "metadata": {
        "id": "5e9naQfCh-Ja"
      },
      "execution_count": null,
      "outputs": []
    },
    {
      "cell_type": "markdown",
      "source": [
        "Technology makes highest sales"
      ],
      "metadata": {
        "id": "nF-beAP9h0pH"
      }
    },
    {
      "cell_type": "markdown",
      "source": [
        "5 top states that make orders?\n",
        "\n",
        "\n"
      ],
      "metadata": {
        "id": "APf_D39IRLA4"
      }
    },
    {
      "cell_type": "code",
      "source": [
        "result = spark.sql(\"select count(State) as numOccurance, State from Superstore group by State order by numOccurance desc limit 5\")\n",
        "result.show()"
      ],
      "metadata": {
        "id": "7uOzmswMRKYd",
        "colab": {
          "base_uri": "https://localhost:8080/"
        },
        "outputId": "5bc7e792-a41b-4ee5-e1c8-f6b53b458c0a"
      },
      "execution_count": null,
      "outputs": [
        {
          "output_type": "stream",
          "name": "stdout",
          "text": [
            "+------------+------------+\n",
            "|numOccurance|       State|\n",
            "+------------+------------+\n",
            "|        2001|  California|\n",
            "|        1128|    New York|\n",
            "|         985|       Texas|\n",
            "|         587|Pennsylvania|\n",
            "|         506|  Washington|\n",
            "+------------+------------+\n",
            "\n"
          ]
        }
      ]
    },
    {
      "cell_type": "markdown",
      "source": [
        "visualization"
      ],
      "metadata": {
        "id": "zW7IJp4ciy1X"
      }
    },
    {
      "cell_type": "code",
      "source": [
        "State_Order = result.toPandas()"
      ],
      "metadata": {
        "id": "oF3Zh5zBi4gg"
      },
      "execution_count": null,
      "outputs": []
    },
    {
      "cell_type": "code",
      "source": [
        "#sns.set(rc = {'figure.figsize':(15,30)})\n",
        "sns.displot(State_Order, x=\"State\",y='numOccurance',binwidth=10)\n"
      ],
      "metadata": {
        "colab": {
          "base_uri": "https://localhost:8080/",
          "height": 382
        },
        "id": "TcrWUqPKi4ip",
        "outputId": "93ab15d2-fac7-4570-a2c9-57df07cf608b"
      },
      "execution_count": null,
      "outputs": [
        {
          "output_type": "execute_result",
          "data": {
            "text/plain": [
              "<seaborn.axisgrid.FacetGrid at 0x7faa72a4ef10>"
            ]
          },
          "metadata": {},
          "execution_count": 50
        },
        {
          "output_type": "display_data",
          "data": {
            "text/plain": [
              "<Figure size 360x360 with 1 Axes>"
            ],
            "image/png": "[encoded data removed]"
          },
          "metadata": {}
        }
      ]
    },
    {
      "cell_type": "code",
      "source": [
        ""
      ],
      "metadata": {
        "id": "pbIUqehgi4mI"
      },
      "execution_count": null,
      "outputs": []
    },
    {
      "cell_type": "markdown",
      "source": [
        "Quantity sold of each subcategory"
      ],
      "metadata": {
        "id": "w7knxuXBGk4y"
      }
    },
    {
      "cell_type": "code",
      "source": [
        "result = spark.sql(\"select sum(Quantity) as q, SubCategory from Superstore group by SubCategory order by q desc \")\n",
        "result.show()"
      ],
      "metadata": {
        "colab": {
          "base_uri": "https://localhost:8080/"
        },
        "id": "SZ-HkTFlehZG",
        "outputId": "56a81ae0-38a3-4ce1-ee3e-951255352006"
      },
      "execution_count": null,
      "outputs": [
        {
          "output_type": "stream",
          "name": "stdout",
          "text": [
            "+------+-----------+\n",
            "|     q|SubCategory|\n",
            "+------+-----------+\n",
            "|5974.0|    Binders|\n",
            "|5178.0|      Paper|\n",
            "|3563.0|Furnishings|\n",
            "|3289.0|     Phones|\n",
            "|3158.0|    Storage|\n",
            "|3000.0|        Art|\n",
            "|2976.0|Accessories|\n",
            "|2356.0|     Chairs|\n",
            "|1729.0| Appliances|\n",
            "|1400.0|     Labels|\n",
            "|1241.0|     Tables|\n",
            "| 914.0|  Fasteners|\n",
            "| 906.0|  Envelopes|\n",
            "| 868.0|  Bookcases|\n",
            "| 647.0|   Supplies|\n",
            "| 440.0|   Machines|\n",
            "| 234.0|    Copiers|\n",
            "+------+-----------+\n",
            "\n"
          ]
        }
      ]
    },
    {
      "cell_type": "code",
      "source": [
        "Subq_totalsq = result.toPandas()"
      ],
      "metadata": {
        "id": "ZfGt2GuUVFP6"
      },
      "execution_count": null,
      "outputs": []
    },
    {
      "cell_type": "code",
      "source": [
        "sns.scatterplot(x=\"SubCategory\",y='q',data = Subq_totalsq)"
      ],
      "metadata": {
        "colab": {
          "base_uri": "https://localhost:8080/",
          "height": 1000
        },
        "id": "2ZHv--U6KH49",
        "outputId": "a98ec792-2e2e-4e90-bf46-aaec7c160552"
      },
      "execution_count": null,
      "outputs": [
        {
          "output_type": "execute_result",
          "data": {
            "text/plain": [
              "<matplotlib.axes._subplots.AxesSubplot at 0x7faa75053610>"
            ]
          },
          "metadata": {},
          "execution_count": 66
        },
        {
          "output_type": "display_data",
          "data": {
            "text/plain": [
              "<Figure size 1080x2160 with 1 Axes>"
            ],
            "image/png": "[encoded data removed]"
          },
          "metadata": {}
        }
      ]
    },
    {
      "cell_type": "code",
      "source": [
        ""
      ],
      "metadata": {
        "id": "P19wwVa7Kpq3"
      },
      "execution_count": null,
      "outputs": []
    }
  ]
}